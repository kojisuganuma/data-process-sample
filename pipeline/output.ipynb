{
 "cells": [
  {
   "cell_type": "code",
   "execution_count": 1,
   "metadata": {
    "execution": {
     "iopub.execute_input": "2020-12-21T03:21:50.178643Z",
     "iopub.status.busy": "2020-12-21T03:21:50.177662Z",
     "iopub.status.idle": "2020-12-21T03:21:50.941514Z",
     "shell.execute_reply": "2020-12-21T03:21:50.942037Z"
    },
    "papermill": {
     "duration": 0.78546,
     "end_time": "2020-12-21T03:21:50.942319",
     "exception": false,
     "start_time": "2020-12-21T03:21:50.156859",
     "status": "completed"
    },
    "tags": []
   },
   "outputs": [
    {
     "name": "stderr",
     "output_type": "stream",
     "text": [
      "/Users/rls01019098/github/kojisuganuma/data-process-sample/pipeline/.venv/lib/python3.8/site-packages/sklearn/utils/deprecation.py:143: FutureWarning: The sklearn.datasets.samples_generator module is  deprecated in version 0.22 and will be removed in version 0.24. The corresponding classes / functions should instead be imported from sklearn.datasets. Anything that cannot be imported from sklearn.datasets is now part of the private API.\n",
      "  warnings.warn(message, FutureWarning)\n"
     ]
    }
   ],
   "source": [
    "from sklearn.model_selection import GridSearchCV\n",
    "from sklearn.model_selection import KFold\n",
    "from sklearn import svm\n",
    "from sklearn.decomposition import PCA\n",
    "from sklearn.datasets import samples_generator\n",
    "from sklearn.pipeline import Pipeline\n",
    "from sklearn.preprocessing import StandardScaler\n",
    "from sklearn.model_selection import train_test_split\n",
    "from sklearn.metrics import classification_report\n",
    "import numpy as np\n",
    "import pandas"
   ]
  },
  {
   "cell_type": "code",
   "execution_count": 2,
   "metadata": {
    "execution": {
     "iopub.execute_input": "2020-12-21T03:21:50.959730Z",
     "iopub.status.busy": "2020-12-21T03:21:50.958992Z",
     "iopub.status.idle": "2020-12-21T03:21:54.321870Z",
     "shell.execute_reply": "2020-12-21T03:21:54.322267Z"
    },
    "papermill": {
     "duration": 3.374225,
     "end_time": "2020-12-21T03:21:54.322449",
     "exception": false,
     "start_time": "2020-12-21T03:21:50.948224",
     "status": "completed"
    },
    "tags": []
   },
   "outputs": [
    {
     "name": "stdout",
     "output_type": "stream",
     "text": [
      "Fitting 5 folds for each of 300 candidates, totalling 1500 fits\n"
     ]
    },
    {
     "name": "stderr",
     "output_type": "stream",
     "text": [
      "[Parallel(n_jobs=-1)]: Using backend LokyBackend with 8 concurrent workers.\n"
     ]
    },
    {
     "name": "stderr",
     "output_type": "stream",
     "text": [
      "[Parallel(n_jobs=-1)]: Done  34 tasks      | elapsed:    1.4s\n"
     ]
    },
    {
     "name": "stderr",
     "output_type": "stream",
     "text": [
      "[Parallel(n_jobs=-1)]: Done 1400 tasks      | elapsed:    2.7s\n"
     ]
    },
    {
     "name": "stdout",
     "output_type": "stream",
     "text": [
      "train               precision    recall  f1-score   support\n",
      "\n",
      "           0       0.68      0.61      0.64        44\n",
      "           1       0.57      0.64      0.61        36\n",
      "\n",
      "    accuracy                           0.62        80\n",
      "   macro avg       0.62      0.63      0.62        80\n",
      "weighted avg       0.63      0.62      0.63        80\n",
      "\n",
      "test               precision    recall  f1-score   support\n",
      "\n",
      "           0       0.55      0.86      0.67         7\n",
      "           1       0.89      0.62      0.73        13\n",
      "\n",
      "    accuracy                           0.70        20\n",
      "   macro avg       0.72      0.74      0.70        20\n",
      "weighted avg       0.77      0.70      0.71        20\n",
      "\n"
     ]
    },
    {
     "name": "stderr",
     "output_type": "stream",
     "text": [
      "[Parallel(n_jobs=-1)]: Done 1500 out of 1500 | elapsed:    3.3s finished\n"
     ]
    }
   ],
   "source": [
    "# generate dataset\n",
    "N_SAMPLES = 100\n",
    "N_FEATURES = 10\n",
    "X, y = samples_generator.make_classification(\n",
    "    n_samples=N_SAMPLES,\n",
    "    n_features=N_FEATURES,\n",
    "    n_informative=3,\n",
    "    n_redundant=0,\n",
    "    random_state=1\n",
    ")\n",
    "\n",
    "# split dataset\n",
    "X_train, X_test, y_train, y_test = train_test_split(\n",
    "    X,\n",
    "    y,\n",
    "    test_size=0.2,\n",
    "    random_state=0\n",
    ")\n",
    "\n",
    "# pipline\n",
    "pipeline = Pipeline([\n",
    "    # preprocessing\n",
    "    ('std_scale', StandardScaler()),\n",
    "    ('pca', PCA()),\n",
    "    # classifier\n",
    "    ('svm', svm.SVC()),\n",
    "])\n",
    "\n",
    "# hyper parameters\n",
    "hyper_parameters = {\n",
    "    'pca__n_components': range(2, 3),\n",
    "    'svm__kernel': ['linear', 'poly', 'sigmoid'],\n",
    "    'svm__C': np.logspace(0, 2, 10).tolist(),\n",
    "    'svm__gamma': np.logspace(-3, 0, 10).tolist()\n",
    "}\n",
    "\n",
    "# grid search cross validation\n",
    "cv = KFold(\n",
    "    n_splits=5,\n",
    "    shuffle=True,\n",
    "    random_state=1,\n",
    ")\n",
    "clf = GridSearchCV(\n",
    "    estimator=pipeline,\n",
    "    param_grid=hyper_parameters,\n",
    "    cv=cv,\n",
    "    n_jobs=-1,\n",
    "    verbose=1,\n",
    ")\n",
    "\n",
    "# train\n",
    "clf.fit(X_train, y_train)\n",
    "\n",
    "# predict\n",
    "y_train_pred = clf.predict(X_train)\n",
    "y_test_pred = clf.predict(X_test)\n",
    "\n",
    "# report\n",
    "print('train', classification_report(y_train, y_train_pred))\n",
    "print('test', classification_report(y_test, y_test_pred))"
   ]
  }
 ],
 "metadata": {
  "kernelspec": {
   "display_name": "Python 3",
   "language": "python",
   "name": "python3"
  },
  "language_info": {
   "codemirror_mode": {
    "name": "ipython",
    "version": 3
   },
   "file_extension": ".py",
   "mimetype": "text/x-python",
   "name": "python",
   "nbconvert_exporter": "python",
   "pygments_lexer": "ipython3",
   "version": "3.8.6"
  },
  "papermill": {
   "default_parameters": {},
   "duration": 5.66391,
   "end_time": "2020-12-21T03:21:54.851230",
   "environment_variables": {},
   "exception": null,
   "input_path": "main.ipynb",
   "output_path": "output.ipynb",
   "parameters": {},
   "start_time": "2020-12-21T03:21:49.187320",
   "version": "2.2.2"
  }
 },
 "nbformat": 4,
 "nbformat_minor": 4
}